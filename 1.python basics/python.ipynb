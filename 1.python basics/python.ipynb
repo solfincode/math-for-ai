{
 "cells": [
  {
   "cell_type": "markdown",
   "id": "supported-agriculture",
   "metadata": {},
   "source": [
    "### variable"
   ]
  },
  {
   "cell_type": "code",
   "execution_count": 1,
   "id": "duplicate-immunology",
   "metadata": {},
   "outputs": [
    {
     "name": "stdout",
     "output_type": "stream",
     "text": [
      "1234\n"
     ]
    }
   ],
   "source": [
    "num = 1234\n",
    "print(num)"
   ]
  },
  {
   "cell_type": "code",
   "execution_count": 2,
   "id": "particular-vietnam",
   "metadata": {},
   "outputs": [
    {
     "name": "stdout",
     "output_type": "stream",
     "text": [
      "hello world\n"
     ]
    }
   ],
   "source": [
    "greeting = \"hello world\"\n",
    "print(greeting)"
   ]
  },
  {
   "cell_type": "markdown",
   "id": "amber-amount",
   "metadata": {},
   "source": [
    "### operator\n",
    "https://docs.python.org/3/library/operator.html"
   ]
  },
  {
   "cell_type": "code",
   "execution_count": 3,
   "id": "cleared-damage",
   "metadata": {},
   "outputs": [
    {
     "name": "stdout",
     "output_type": "stream",
     "text": [
      "13\n"
     ]
    }
   ],
   "source": [
    "a = 3\n",
    "b = 10\n",
    "print(a+b)"
   ]
  },
  {
   "cell_type": "code",
   "execution_count": 4,
   "id": "sublime-video",
   "metadata": {},
   "outputs": [
    {
     "name": "stdout",
     "output_type": "stream",
     "text": [
      "7\n"
     ]
    }
   ],
   "source": [
    "print(b-a)"
   ]
  },
  {
   "cell_type": "code",
   "execution_count": 5,
   "id": "broken-steal",
   "metadata": {},
   "outputs": [
    {
     "name": "stdout",
     "output_type": "stream",
     "text": [
      "30\n"
     ]
    }
   ],
   "source": [
    "print(b*a)"
   ]
  },
  {
   "cell_type": "code",
   "execution_count": 6,
   "id": "composed-breach",
   "metadata": {},
   "outputs": [
    {
     "name": "stdout",
     "output_type": "stream",
     "text": [
      "3.3333333333333335\n"
     ]
    }
   ],
   "source": [
    "print(b/a)"
   ]
  },
  {
   "cell_type": "code",
   "execution_count": 7,
   "id": "consistent-coalition",
   "metadata": {},
   "outputs": [
    {
     "name": "stdout",
     "output_type": "stream",
     "text": [
      "3\n"
     ]
    }
   ],
   "source": [
    "print(b//a) //division"
   ]
  },
  {
   "cell_type": "code",
   "execution_count": 8,
   "id": "every-christmas",
   "metadata": {},
   "outputs": [
    {
     "name": "stdout",
     "output_type": "stream",
     "text": [
      "1\n"
     ]
    }
   ],
   "source": [
    "print(b%a)#remainder"
   ]
  },
  {
   "cell_type": "markdown",
   "id": "elder-compression",
   "metadata": {},
   "source": [
    "### e"
   ]
  },
  {
   "cell_type": "code",
   "execution_count": 9,
   "id": "authorized-bumper",
   "metadata": {},
   "outputs": [
    {
     "name": "stdout",
     "output_type": "stream",
     "text": [
      "120000.0\n"
     ]
    }
   ],
   "source": [
    "x=1.2e5\n",
    "print(x)"
   ]
  },
  {
   "cell_type": "code",
   "execution_count": 11,
   "id": "robust-nutrition",
   "metadata": {},
   "outputs": [
    {
     "name": "stdout",
     "output_type": "stream",
     "text": [
      "0.00012\n"
     ]
    }
   ],
   "source": [
    "y=1.2e-4\n",
    "print(y)"
   ]
  },
  {
   "cell_type": "markdown",
   "id": "timely-private",
   "metadata": {},
   "source": [
    "### List - mutable"
   ]
  },
  {
   "cell_type": "code",
   "execution_count": 12,
   "id": "animated-elephant",
   "metadata": {},
   "outputs": [
    {
     "name": "stdout",
     "output_type": "stream",
     "text": [
      "[1, 2, 3, 4, 5, 6, 7]\n"
     ]
    }
   ],
   "source": [
    "abc = [1,2,3,4,5,6,7]\n",
    "print(abc)"
   ]
  },
  {
   "cell_type": "markdown",
   "id": "encouraging-eugene",
   "metadata": {},
   "source": [
    "### List indexing"
   ]
  },
  {
   "cell_type": "code",
   "execution_count": 13,
   "id": "coral-kelly",
   "metadata": {},
   "outputs": [
    {
     "name": "stdout",
     "output_type": "stream",
     "text": [
      "3\n"
     ]
    }
   ],
   "source": [
    "print(abc[2])"
   ]
  },
  {
   "cell_type": "markdown",
   "id": "tight-monthly",
   "metadata": {},
   "source": [
    "### add element into List"
   ]
  },
  {
   "cell_type": "code",
   "execution_count": 14,
   "id": "bound-tragedy",
   "metadata": {},
   "outputs": [
    {
     "name": "stdout",
     "output_type": "stream",
     "text": [
      "[1, 2, 3, 4, 5, 6, 7, 100]\n"
     ]
    }
   ],
   "source": [
    "abc.append(100)\n",
    "print(abc)"
   ]
  },
  {
   "cell_type": "markdown",
   "id": "vocal-circuit",
   "metadata": {},
   "source": [
    "### Tuple - immutable"
   ]
  },
  {
   "cell_type": "code",
   "execution_count": 15,
   "id": "statutory-enzyme",
   "metadata": {},
   "outputs": [
    {
     "name": "stdout",
     "output_type": "stream",
     "text": [
      "(1, 2, 3, 4, 5, 6)\n"
     ]
    }
   ],
   "source": [
    "xyz = (1,2,3,4,5,6)\n",
    "print(xyz)"
   ]
  },
  {
   "cell_type": "code",
   "execution_count": 17,
   "id": "abandoned-italic",
   "metadata": {},
   "outputs": [
    {
     "name": "stdout",
     "output_type": "stream",
     "text": [
      "3\n"
     ]
    }
   ],
   "source": [
    "xyz_1,xyz_2,xyz_3,xyz_4,xyz_5,xyz_6 = xyz # tuple unpacking\n",
    "print(xyz_3)"
   ]
  },
  {
   "cell_type": "markdown",
   "id": "falling-extra",
   "metadata": {},
   "source": [
    "### if statement"
   ]
  },
  {
   "cell_type": "code",
   "execution_count": 18,
   "id": "metric-sleep",
   "metadata": {},
   "outputs": [
    {
     "name": "stdout",
     "output_type": "stream",
     "text": [
      "more than 3\n"
     ]
    }
   ],
   "source": [
    "ab = 5 \n",
    "if ab > 3:\n",
    "    print(\"more than 3\")\n",
    "else:\n",
    "    print(\"less than 3\")"
   ]
  },
  {
   "cell_type": "markdown",
   "id": "armed-reproduction",
   "metadata": {},
   "source": [
    "### for statement"
   ]
  },
  {
   "cell_type": "code",
   "execution_count": 19,
   "id": "republican-republic",
   "metadata": {},
   "outputs": [
    {
     "name": "stdout",
     "output_type": "stream",
     "text": [
      "4\n",
      "5\n",
      "6\n",
      "7\n",
      "8\n",
      "10\n"
     ]
    }
   ],
   "source": [
    "list_el = [4,5,6,7,8,10]\n",
    "\n",
    "for el in list_el:\n",
    "    print(el)"
   ]
  },
  {
   "cell_type": "code",
   "execution_count": 20,
   "id": "controversial-benchmark",
   "metadata": {},
   "outputs": [
    {
     "name": "stdout",
     "output_type": "stream",
     "text": [
      "0\n",
      "1\n",
      "2\n",
      "3\n",
      "4\n"
     ]
    }
   ],
   "source": [
    "for el in range(5):\n",
    "    print(el)"
   ]
  },
  {
   "cell_type": "markdown",
   "id": "senior-marsh",
   "metadata": {},
   "source": [
    "### function"
   ]
  },
  {
   "cell_type": "code",
   "execution_count": 23,
   "id": "processed-empire",
   "metadata": {},
   "outputs": [
    {
     "name": "stdout",
     "output_type": "stream",
     "text": [
      "result is 122\n"
     ]
    }
   ],
   "source": [
    "def add_num(x,y):\n",
    "    return x+y\n",
    "result = add_num(102,20)\n",
    "print(\"result is\",result)"
   ]
  },
  {
   "cell_type": "code",
   "execution_count": null,
   "id": "sticky-handling",
   "metadata": {},
   "outputs": [],
   "source": []
  }
 ],
 "metadata": {
  "kernelspec": {
   "display_name": "Python 3",
   "language": "python",
   "name": "python3"
  },
  "language_info": {
   "codemirror_mode": {
    "name": "ipython",
    "version": 3
   },
   "file_extension": ".py",
   "mimetype": "text/x-python",
   "name": "python",
   "nbconvert_exporter": "python",
   "pygments_lexer": "ipython3",
   "version": "3.9.1"
  }
 },
 "nbformat": 4,
 "nbformat_minor": 5
}
